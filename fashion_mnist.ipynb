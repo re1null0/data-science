{
 "cells": [
  {
   "cell_type": "code",
   "execution_count": 1,
   "metadata": {},
   "outputs": [
    {
     "name": "stderr",
     "output_type": "stream",
     "text": [
      "C:\\Users\\w\\anaconda3\\lib\\site-packages\\tensorflow\\python\\framework\\dtypes.py:516: FutureWarning: Passing (type, 1) or '1type' as a synonym of type is deprecated; in a future version of numpy, it will be understood as (type, (1,)) / '(1,)type'.\n",
      "  _np_qint8 = np.dtype([(\"qint8\", np.int8, 1)])\n",
      "C:\\Users\\w\\anaconda3\\lib\\site-packages\\tensorflow\\python\\framework\\dtypes.py:517: FutureWarning: Passing (type, 1) or '1type' as a synonym of type is deprecated; in a future version of numpy, it will be understood as (type, (1,)) / '(1,)type'.\n",
      "  _np_quint8 = np.dtype([(\"quint8\", np.uint8, 1)])\n",
      "C:\\Users\\w\\anaconda3\\lib\\site-packages\\tensorflow\\python\\framework\\dtypes.py:518: FutureWarning: Passing (type, 1) or '1type' as a synonym of type is deprecated; in a future version of numpy, it will be understood as (type, (1,)) / '(1,)type'.\n",
      "  _np_qint16 = np.dtype([(\"qint16\", np.int16, 1)])\n",
      "C:\\Users\\w\\anaconda3\\lib\\site-packages\\tensorflow\\python\\framework\\dtypes.py:519: FutureWarning: Passing (type, 1) or '1type' as a synonym of type is deprecated; in a future version of numpy, it will be understood as (type, (1,)) / '(1,)type'.\n",
      "  _np_quint16 = np.dtype([(\"quint16\", np.uint16, 1)])\n",
      "C:\\Users\\w\\anaconda3\\lib\\site-packages\\tensorflow\\python\\framework\\dtypes.py:520: FutureWarning: Passing (type, 1) or '1type' as a synonym of type is deprecated; in a future version of numpy, it will be understood as (type, (1,)) / '(1,)type'.\n",
      "  _np_qint32 = np.dtype([(\"qint32\", np.int32, 1)])\n",
      "C:\\Users\\w\\anaconda3\\lib\\site-packages\\tensorflow\\python\\framework\\dtypes.py:525: FutureWarning: Passing (type, 1) or '1type' as a synonym of type is deprecated; in a future version of numpy, it will be understood as (type, (1,)) / '(1,)type'.\n",
      "  np_resource = np.dtype([(\"resource\", np.ubyte, 1)])\n",
      "C:\\Users\\w\\anaconda3\\lib\\site-packages\\tensorboard\\compat\\tensorflow_stub\\dtypes.py:541: FutureWarning: Passing (type, 1) or '1type' as a synonym of type is deprecated; in a future version of numpy, it will be understood as (type, (1,)) / '(1,)type'.\n",
      "  _np_qint8 = np.dtype([(\"qint8\", np.int8, 1)])\n",
      "C:\\Users\\w\\anaconda3\\lib\\site-packages\\tensorboard\\compat\\tensorflow_stub\\dtypes.py:542: FutureWarning: Passing (type, 1) or '1type' as a synonym of type is deprecated; in a future version of numpy, it will be understood as (type, (1,)) / '(1,)type'.\n",
      "  _np_quint8 = np.dtype([(\"quint8\", np.uint8, 1)])\n",
      "C:\\Users\\w\\anaconda3\\lib\\site-packages\\tensorboard\\compat\\tensorflow_stub\\dtypes.py:543: FutureWarning: Passing (type, 1) or '1type' as a synonym of type is deprecated; in a future version of numpy, it will be understood as (type, (1,)) / '(1,)type'.\n",
      "  _np_qint16 = np.dtype([(\"qint16\", np.int16, 1)])\n",
      "C:\\Users\\w\\anaconda3\\lib\\site-packages\\tensorboard\\compat\\tensorflow_stub\\dtypes.py:544: FutureWarning: Passing (type, 1) or '1type' as a synonym of type is deprecated; in a future version of numpy, it will be understood as (type, (1,)) / '(1,)type'.\n",
      "  _np_quint16 = np.dtype([(\"quint16\", np.uint16, 1)])\n",
      "C:\\Users\\w\\anaconda3\\lib\\site-packages\\tensorboard\\compat\\tensorflow_stub\\dtypes.py:545: FutureWarning: Passing (type, 1) or '1type' as a synonym of type is deprecated; in a future version of numpy, it will be understood as (type, (1,)) / '(1,)type'.\n",
      "  _np_qint32 = np.dtype([(\"qint32\", np.int32, 1)])\n",
      "C:\\Users\\w\\anaconda3\\lib\\site-packages\\tensorboard\\compat\\tensorflow_stub\\dtypes.py:550: FutureWarning: Passing (type, 1) or '1type' as a synonym of type is deprecated; in a future version of numpy, it will be understood as (type, (1,)) / '(1,)type'.\n",
      "  np_resource = np.dtype([(\"resource\", np.ubyte, 1)])\n"
     ]
    }
   ],
   "source": [
    "import tensorflow as tf\n",
    "from tensorflow import keras\n",
    "import numpy as np"
   ]
  },
  {
   "cell_type": "code",
   "execution_count": 2,
   "metadata": {},
   "outputs": [],
   "source": [
    "fashion_mnist = keras.datasets.fashion_mnist\n",
    "(train_images, train_labels), (test_images, test_labels) = fashion_mnist.load_data() "
   ]
  },
  {
   "cell_type": "code",
   "execution_count": 4,
   "metadata": {},
   "outputs": [],
   "source": [
    "train_images = train_images / 255.0\n",
    "test_images = test_images / 255.0\n",
    "model = keras.Sequential([\n",
    "    keras.layers.Flatten(input_shape=(28, 28)),\n",
    "    keras.layers.Dense(128, activation=tf.nn.relu),\n",
    "    keras.layers.Dense(10, activation=tf.nn.softmax)\n",
    "])"
   ]
  },
  {
   "cell_type": "code",
   "execution_count": 6,
   "metadata": {
    "scrolled": true
   },
   "outputs": [
    {
     "name": "stdout",
     "output_type": "stream",
     "text": [
      "Epoch 1/15\n",
      "60000/60000 [==============================] - 7s 114us/sample - loss: 0.4295 - acc: 0.8492\n",
      "Epoch 2/15\n",
      "60000/60000 [==============================] - 4s 72us/sample - loss: 0.4212 - acc: 0.8518\n",
      "Epoch 3/15\n",
      "60000/60000 [==============================] - 4s 73us/sample - loss: 0.4145 - acc: 0.8546\n",
      "Epoch 4/15\n",
      "60000/60000 [==============================] - 4s 71us/sample - loss: 0.4079 - acc: 0.8561\n",
      "Epoch 5/15\n",
      "60000/60000 [==============================] - 4s 72us/sample - loss: 0.4023 - acc: 0.8584\n",
      "Epoch 6/15\n",
      "60000/60000 [==============================] - 4s 72us/sample - loss: 0.3967 - acc: 0.8600\n",
      "Epoch 7/15\n",
      "60000/60000 [==============================] - 5s 77us/sample - loss: 0.3916 - acc: 0.8625\n",
      "Epoch 8/15\n",
      "60000/60000 [==============================] - 5s 85us/sample - loss: 0.3873 - acc: 0.8633\n",
      "Epoch 9/15\n",
      "60000/60000 [==============================] - 4s 74us/sample - loss: 0.3831 - acc: 0.8644\n",
      "Epoch 10/15\n",
      "60000/60000 [==============================] - 4s 74us/sample - loss: 0.3785 - acc: 0.8656\n",
      "Epoch 11/15\n",
      "60000/60000 [==============================] - 4s 74us/sample - loss: 0.3751 - acc: 0.8678\n",
      "Epoch 12/15\n",
      "60000/60000 [==============================] - 4s 73us/sample - loss: 0.3712 - acc: 0.8687\n",
      "Epoch 13/15\n",
      "60000/60000 [==============================] - 5s 76us/sample - loss: 0.3677 - acc: 0.8699\n",
      "Epoch 14/15\n",
      "60000/60000 [==============================] - 5s 76us/sample - loss: 0.3643 - acc: 0.8714\n",
      "Epoch 15/15\n",
      "60000/60000 [==============================] - 5s 79us/sample - loss: 0.3613 - acc: 0.8720\n"
     ]
    },
    {
     "data": {
      "text/plain": [
       "<tensorflow.python.keras.callbacks.History at 0x1f829364bc8>"
      ]
     },
     "execution_count": 6,
     "metadata": {},
     "output_type": "execute_result"
    }
   ],
   "source": [
    "model.compile(optimizer=keras.optimizers.Adam(),\n",
    "             loss='sparse_categorical_crossentropy',\n",
    "              metrics=['accuracy'])\n",
    "model.fit(train_images, train_labels, epochs=15)"
   ]
  },
  {
   "cell_type": "code",
   "execution_count": 9,
   "metadata": {},
   "outputs": [
    {
     "name": "stdout",
     "output_type": "stream",
     "text": [
      "10000/10000 [==============================] - 0s 45us/sample - loss: 0.4030 - acc: 0.8572\n"
     ]
    },
    {
     "data": {
      "text/plain": [
       "[0.4030493388414383, 0.8572]"
      ]
     },
     "execution_count": 9,
     "metadata": {},
     "output_type": "execute_result"
    }
   ],
   "source": [
    "model.evaluate(test_images, test_labels)"
   ]
  },
  {
   "cell_type": "code",
   "execution_count": 10,
   "metadata": {},
   "outputs": [],
   "source": [
    "predictions = model.predict(test_images)"
   ]
  },
  {
   "cell_type": "code",
   "execution_count": 15,
   "metadata": {},
   "outputs": [
    {
     "name": "stdout",
     "output_type": "stream",
     "text": [
      "[1.1255029e-07 1.1494973e-08 3.4123832e-06 9.3781586e-07 3.2064047e-06\n",
      " 6.8310641e-02 3.7182533e-06 8.9558229e-02 3.0871874e-03 8.3903253e-01]\n",
      "9\n"
     ]
    }
   ],
   "source": [
    "print(predictions[0])#each item's probability\n",
    "print(test_labels[0])#actual item number"
   ]
  },
  {
   "cell_type": "code",
   "execution_count": 19,
   "metadata": {},
   "outputs": [
    {
     "name": "stdout",
     "output_type": "stream",
     "text": [
      "Epoch 1/15\n",
      "60000/60000 [==============================] - 15s 251us/sample - loss: 0.7967 - acc: 0.7291\n",
      "Epoch 2/15\n",
      "60000/60000 [==============================] - 15s 245us/sample - loss: 0.5114 - acc: 0.8185\n",
      "Epoch 3/15\n",
      "60000/60000 [==============================] - 15s 248us/sample - loss: 0.4600 - acc: 0.8371\n",
      "Epoch 4/15\n",
      "60000/60000 [==============================] - 15s 247us/sample - loss: 0.4313 - acc: 0.8469\n",
      "Epoch 5/15\n",
      "60000/60000 [==============================] - 15s 254us/sample - loss: 0.4124 - acc: 0.8539\n",
      "Epoch 6/15\n",
      "60000/60000 [==============================] - 15s 251us/sample - loss: 0.3966 - acc: 0.8584\n",
      "Epoch 7/15\n",
      "60000/60000 [==============================] - 15s 250us/sample - loss: 0.3834 - acc: 0.8625\n",
      "Epoch 8/15\n",
      "60000/60000 [==============================] - 15s 245us/sample - loss: 0.3732 - acc: 0.8654\n",
      "Epoch 9/15\n",
      "60000/60000 [==============================] - 15s 246us/sample - loss: 0.3623 - acc: 0.8695\n",
      "Epoch 10/15\n",
      "60000/60000 [==============================] - 15s 252us/sample - loss: 0.3537 - acc: 0.8726\n",
      "Epoch 11/15\n",
      "60000/60000 [==============================] - 15s 247us/sample - loss: 0.3460 - acc: 0.8760\n",
      "Epoch 12/15\n",
      "60000/60000 [==============================] - 15s 247us/sample - loss: 0.3384 - acc: 0.8774\n",
      "Epoch 13/15\n",
      "60000/60000 [==============================] - 15s 252us/sample - loss: 0.3319 - acc: 0.8804\n",
      "Epoch 14/15\n",
      "60000/60000 [==============================] - 15s 252us/sample - loss: 0.3250 - acc: 0.8825\n",
      "Epoch 15/15\n",
      "60000/60000 [==============================] - 16s 264us/sample - loss: 0.3183 - acc: 0.8857\n"
     ]
    },
    {
     "data": {
      "text/plain": [
       "<tensorflow.python.keras.callbacks.History at 0x1f82a948648>"
      ]
     },
     "execution_count": 19,
     "metadata": {},
     "output_type": "execute_result"
    }
   ],
   "source": [
    "model_second = keras.Sequential([\n",
    "    keras.layers.Flatten(),\n",
    "    keras.layers.Dense(1024, activation=tf.nn.relu),#more hidden neurons - better accuracy\n",
    "    keras.layers.Dense(10, activation=tf.nn.softmax)\n",
    "])\n",
    "model_second.compile(optimizer='adam', loss='sparse_categorical_crossentropy', metrics=['accuracy'])\n",
    "model_second.fit(train_images, train_labels, epochs=15)"
   ]
  },
  {
   "cell_type": "code",
   "execution_count": 21,
   "metadata": {},
   "outputs": [
    {
     "name": "stdout",
     "output_type": "stream",
     "text": [
      "Epoch 1/15\n",
      "60000/60000 [==============================] - 11s 190us/sample - loss: 0.7133 - acc: 0.7401\n",
      "Epoch 2/15\n",
      "60000/60000 [==============================] - 11s 189us/sample - loss: 0.4777 - acc: 0.8254\n",
      "Epoch 3/15\n",
      "60000/60000 [==============================] - 11s 189us/sample - loss: 0.4246 - acc: 0.8457\n",
      "Epoch 4/15\n",
      "60000/60000 [==============================] - 11s 191us/sample - loss: 0.3943 - acc: 0.8575\n",
      "Epoch 5/15\n",
      "60000/60000 [==============================] - 12s 197us/sample - loss: 0.3714 - acc: 0.8638\n",
      "Epoch 6/15\n",
      "60000/60000 [==============================] - 12s 199us/sample - loss: 0.3523 - acc: 0.8708\n",
      "Epoch 7/15\n",
      "60000/60000 [==============================] - 12s 200us/sample - loss: 0.3371 - acc: 0.8755\n",
      "Epoch 8/15\n",
      "60000/60000 [==============================] - 11s 191us/sample - loss: 0.3239 - acc: 0.8818\n",
      "Epoch 9/15\n",
      "60000/60000 [==============================] - 11s 191us/sample - loss: 0.3142 - acc: 0.8848\n",
      "Epoch 10/15\n",
      "60000/60000 [==============================] - 12s 197us/sample - loss: 0.3020 - acc: 0.8900\n",
      "Epoch 11/15\n",
      "60000/60000 [==============================] - 12s 200us/sample - loss: 0.2942 - acc: 0.8919\n",
      "Epoch 12/15\n",
      "60000/60000 [==============================] - 11s 190us/sample - loss: 0.2840 - acc: 0.8947\n",
      "Epoch 13/15\n",
      "60000/60000 [==============================] - 12s 199us/sample - loss: 0.2767 - acc: 0.8972\n",
      "Epoch 14/15\n",
      "60000/60000 [==============================] - 12s 201us/sample - loss: 0.2693 - acc: 0.8994\n",
      "Epoch 15/15\n",
      "60000/60000 [==============================] - 11s 190us/sample - loss: 0.2615 - acc: 0.9015\n"
     ]
    },
    {
     "data": {
      "text/plain": [
       "<tensorflow.python.keras.callbacks.History at 0x1f82d1ccc48>"
      ]
     },
     "execution_count": 21,
     "metadata": {},
     "output_type": "execute_result"
    }
   ],
   "source": [
    "#adding another layer\n",
    "model_third = keras.Sequential([\n",
    "    keras.layers.Flatten(),\n",
    "    keras.layers.Dense(512, activation=tf.nn.relu),\n",
    "    keras.layers.Dense(256, activation=tf.nn.relu),#more hidden neurons - better accuracy\n",
    "    keras.layers.Dense(10, activation=tf.nn.softmax)\n",
    "])\n",
    "model_third.compile(optimizer='adam', loss='sparse_categorical_crossentropy', metrics=['accuracy'])\n",
    "model_third.fit(train_images, train_labels, epochs=15)"
   ]
  },
  {
   "cell_type": "code",
   "execution_count": 25,
   "metadata": {},
   "outputs": [
    {
     "name": "stdout",
     "output_type": "stream",
     "text": [
      "Epoch 1/10\n",
      "60000/60000 [==============================] - ETA: 0s - loss: 0.8729 - acc: 0.708 - 11s 178us/sample - loss: 0.8720 - acc: 0.7091\n",
      "Epoch 2/10\n",
      "60000/60000 [==============================] - 12s 208us/sample - loss: 0.5505 - acc: 0.8027\n",
      "Epoch 3/10\n",
      "60000/60000 [==============================] - 11s 176us/sample - loss: 0.4896 - acc: 0.8261\n",
      "Epoch 4/10\n",
      "60000/60000 [==============================] - 11s 177us/sample - loss: 0.4573 - acc: 0.8378\n",
      "Epoch 5/10\n",
      "60000/60000 [==============================] - 11s 178us/sample - loss: 0.4366 - acc: 0.8453\n",
      "Epoch 6/10\n",
      "60000/60000 [==============================] - 11s 177us/sample - loss: 0.4203 - acc: 0.8511 - loss: 0.4211 - acc: \n",
      "Epoch 7/10\n",
      "60000/60000 [==============================] - 11s 177us/sample - loss: 0.4090 - acc: 0.8550\n",
      "Epoch 8/10\n",
      "60000/60000 [==============================] - 11s 179us/sample - loss: 0.3987 - acc: 0.8583\n",
      "Epoch 9/10\n",
      "60000/60000 [==============================] - 11s 179us/sample - loss: 0.3896 - acc: 0.8624\n",
      "Epoch 10/10\n",
      "60000/60000 [==============================] - 11s 183us/sample - loss: 0.3817 - acc: 0.8642\n"
     ]
    },
    {
     "data": {
      "text/plain": [
       "<tensorflow.python.keras.callbacks.History at 0x1f831c5bcc8>"
      ]
     },
     "execution_count": 25,
     "metadata": {},
     "output_type": "execute_result"
    }
   ],
   "source": [
    "# how do i define exact number of epochs? callback functions\n",
    "\n",
    "class My_Callback(tf.keras.callbacks.Callback):\n",
    "    def epoch_end(self, epoch, logs={}):\n",
    "        if(logs.get('accuracy')>0.85):\n",
    "            print(\"\\nMission abort\")\n",
    "            self.model.stop_training = True\n",
    "            \n",
    "#adding another layer\n",
    "model_test = keras.Sequential([\n",
    "    keras.layers.Flatten(input_shape=(28, 28)),\n",
    "    keras.layers.Dense(512, activation=tf.nn.relu),\n",
    "    keras.layers.Dense(10, activation=tf.nn.softmax)\n",
    "])\n",
    "callbacks = My_Callback()\n",
    "model_test.compile(optimizer='adam', loss='sparse_categorical_crossentropy', metrics=['accuracy'])\n",
    "model_test.fit(train_images, train_labels, epochs=10, callbacks=[callbacks])"
   ]
  },
  {
   "cell_type": "code",
   "execution_count": null,
   "metadata": {},
   "outputs": [],
   "source": []
  }
 ],
 "metadata": {
  "kernelspec": {
   "display_name": "Python 3",
   "language": "python",
   "name": "python3"
  },
  "language_info": {
   "codemirror_mode": {
    "name": "ipython",
    "version": 3
   },
   "file_extension": ".py",
   "mimetype": "text/x-python",
   "name": "python",
   "nbconvert_exporter": "python",
   "pygments_lexer": "ipython3",
   "version": "3.7.7"
  }
 },
 "nbformat": 4,
 "nbformat_minor": 4
}
