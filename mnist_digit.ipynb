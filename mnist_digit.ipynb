{
 "cells": [
  {
   "cell_type": "code",
   "execution_count": 2,
   "metadata": {},
   "outputs": [],
   "source": [
    "import tensorflow as tf\n",
    "from tensorflow import keras\n",
    "from os import path, getcwd, chdir"
   ]
  },
  {
   "cell_type": "code",
   "execution_count": 15,
   "metadata": {},
   "outputs": [],
   "source": [
    "class myCallback(tf.keras.callbacks.Callback):\n",
    "    def on_epoch_end(self, epoch, logs={}):\n",
    "        if(logs.get('loss')<0.01):\n",
    "            print(\"\\nMission abort\")\n",
    "            self.model.stop_training = True"
   ]
  },
  {
   "cell_type": "code",
   "execution_count": 16,
   "metadata": {
    "colab": {},
    "colab_type": "code",
    "id": "9rvXQGAA0ssC"
   },
   "outputs": [],
   "source": [
    "def train_mnist():\n",
    "\n",
    "    callback = myCallback()\n",
    "    mnist = tf.keras.datasets.mnist\n",
    "\n",
    "    (x_train, y_train),(x_test, y_test) = mnist.load_data()\n",
    "    x_train, x_test = x_train/255.0, x_test/255.0\n",
    "\n",
    "    model = tf.keras.models.Sequential([\n",
    "        keras.layers.Flatten(input_shape=(28, 28)),\n",
    "        keras.layers.Dense(256, activation=tf.nn.relu),\n",
    "        keras.layers.Dense(10, activation=tf.nn.softmax)\n",
    "    ])\n",
    "\n",
    "    model.compile(optimizer='adam',\n",
    "                  loss='sparse_categorical_crossentropy',\n",
    "                  metrics=['accuracy'])\n",
    "    # model fitting\n",
    "    history = model.fit(x_test, y_test, epochs=10, callbacks=[callback])\n",
    "    # model fitting\n",
    "    return history.epoch, history.history['acc'][-1]"
   ]
  },
  {
   "cell_type": "code",
   "execution_count": 17,
   "metadata": {
    "colab": {},
    "colab_type": "code",
    "id": "9rvXQGAA0ssC"
   },
   "outputs": [
    {
     "name": "stdout",
     "output_type": "stream",
     "text": [
      "Epoch 1/10\n",
      "10000/10000 [==============================] - 2s 210us/sample - loss: 0.4491 - acc: 0.8719\n",
      "Epoch 2/10\n",
      "10000/10000 [==============================] - 2s 190us/sample - loss: 0.1944 - acc: 0.9444s - loss: 0.2018 \n",
      "Epoch 3/10\n",
      "10000/10000 [==============================] - 2s 189us/sample - loss: 0.1249 - acc: 0.9636\n",
      "Epoch 4/10\n",
      "10000/10000 [==============================] - 2s 182us/sample - loss: 0.0882 - acc: 0.9748\n",
      "Epoch 5/10\n",
      "10000/10000 [==============================] - 2s 189us/sample - loss: 0.0595 - acc: 0.9837\n",
      "Epoch 6/10\n",
      "10000/10000 [==============================] - 2s 191us/sample - loss: 0.0404 - acc: 0.9910\n",
      "Epoch 7/10\n",
      "10000/10000 [==============================] - 2s 180us/sample - loss: 0.0277 - acc: 0.9937\n",
      "Epoch 8/10\n",
      "10000/10000 [==============================] - 2s 172us/sample - loss: 0.0198 - acc: 0.9966\n",
      "Epoch 9/10\n",
      "10000/10000 [==============================] - 2s 189us/sample - loss: 0.0118 - acc: 0.9992\n",
      "Epoch 10/10\n",
      " 9632/10000 [===========================>..] - ETA: 0s - loss: 0.0088 - acc: 0.9997\n",
      "Mission abort\n",
      "10000/10000 [==============================] - 2s 201us/sample - loss: 0.0089 - acc: 0.9996\n"
     ]
    },
    {
     "data": {
      "text/plain": [
       "([0, 1, 2, 3, 4, 5, 6, 7, 8, 9], 0.9996)"
      ]
     },
     "execution_count": 17,
     "metadata": {},
     "output_type": "execute_result"
    }
   ],
   "source": [
    "train_mnist()"
   ]
  },
  {
   "cell_type": "code",
   "execution_count": 4,
   "metadata": {},
   "outputs": [],
   "source": [
    "# Now click the 'Submit Assignment' button above.\n"
   ]
  }
 ],
 "metadata": {
  "coursera": {
   "course_slug": "introduction-tensorflow",
   "graded_item_id": "d6dew",
   "launcher_item_id": "FExZ4"
  },
  "kernelspec": {
   "display_name": "Python 3",
   "language": "python",
   "name": "python3"
  },
  "language_info": {
   "codemirror_mode": {
    "name": "ipython",
    "version": 3
   },
   "file_extension": ".py",
   "mimetype": "text/x-python",
   "name": "python",
   "nbconvert_exporter": "python",
   "pygments_lexer": "ipython3",
   "version": "3.7.7"
  }
 },
 "nbformat": 4,
 "nbformat_minor": 1
}
